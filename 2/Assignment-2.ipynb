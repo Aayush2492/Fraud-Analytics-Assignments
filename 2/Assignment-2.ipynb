{
  "cells": [
    {
      "cell_type": "markdown",
      "metadata": {
        "id": "BFru_tmfQzCK"
      },
      "source": [
        "# Assignment - 2"
      ]
    },
    {
      "cell_type": "code",
      "execution_count": 135,
      "metadata": {
        "id": "QiD-WPXTQzCR"
      },
      "outputs": [],
      "source": [
        "import csv\n",
        "import numpy as np\n",
        "import collections\n",
        "import threading\n",
        "import matplotlib.pyplot as plt"
      ]
    },
    {
      "cell_type": "markdown",
      "metadata": {
        "id": "oX53WYigQzCX"
      },
      "source": [
        "## Data Extraction"
      ]
    },
    {
      "cell_type": "code",
      "execution_count": 136,
      "metadata": {
        "id": "Mt0BSaC7QzCZ"
      },
      "outputs": [],
      "source": [
        "# Extracting trading data from the file\n",
        "with open('Iron_dealers_data.csv') as iron_dealers_file:\n",
        "    csvreader = csv.reader(iron_dealers_file)\n",
        "    next(csvreader)\n",
        "    edges = {}\n",
        "    nodes = set()\n",
        "    for row in csvreader:\n",
        "        seller = int(row[0])\n",
        "        buyer = int(row[1])\n",
        "        value = float(row[2])\n",
        "\n",
        "        nodes.add(seller)\n",
        "        nodes.add(buyer)\n",
        "\n",
        "        # Calculating total transaction value between seller and buyer\n",
        "        if edges.get((seller, buyer)) is None:\n",
        "            edges[(seller, buyer)] = value\n",
        "        else:\n",
        "            edges[(seller, buyer)] += value\n",
        "\n",
        "# Creating a file with Node ID's\n",
        "with open('nodes.txt', 'w') as nodes_file:\n",
        "        nodes_file.write('No. of nodes: {}\\n'.format(len(nodes)))\n",
        "        for node in nodes:\n",
        "            nodes_file.write(str(node) + '\\n')\n",
        "\n",
        "# Creating a file with Edges and their total transaction value\n",
        "with open('edges.txt', 'w') as edges_file:\n",
        "        edges_file.write('No. of edges: {}\\n'.format(len(edges)))\n",
        "        for edge in edges:\n",
        "            edges_file.write(str(edge[0]) + ',' + str(edge[1]) + ',' + str(edges[edge]) + '\\n')"
      ]
    },
    {
      "cell_type": "code",
      "execution_count": 137,
      "metadata": {
        "id": "KdeLBsytQzCe"
      },
      "outputs": [],
      "source": [
        "# Extracting the bad nodes\n",
        "with open('bad.csv') as bad_file:\n",
        "    csvreader = csv.reader(bad_file)\n",
        "    next(csvreader)\n",
        "    bad_nodes = set()\n",
        "    for row in csvreader:\n",
        "        bad_node = int(row[0])\n",
        "        bad_nodes.add(bad_node)\n",
        "\n",
        "# Creating a file with Node ID's of Bad nodes\n",
        "with open('bad_nodes.txt', 'w') as bad_nodes_file:\n",
        "    bad_nodes_file.write('No. of bad nodes: {}\\n'.format(len(bad_nodes)))\n",
        "    for bad_node in bad_nodes:\n",
        "        bad_nodes_file.write(str(bad_node) + '\\n')"
      ]
    },
    {
      "cell_type": "markdown",
      "metadata": {
        "id": "za3GAHjrQzCh"
      },
      "source": [
        "## Pregel Class"
      ]
    },
    {
      "cell_type": "code",
      "execution_count": 138,
      "metadata": {
        "id": "1KOsgF6GQzCi"
      },
      "outputs": [],
      "source": [
        "\"\"\"pregel.py is a python 2.6 module implementing a toy single-machine\n",
        "version of Google's Pregel system for large-scale graph processing.\"\"\"\n",
        "# Using the given Pregel Class \n",
        "class Vertex():\n",
        "\n",
        "    def __init__(self,id,value,out_vertices):\n",
        "        # This is mostly self-explanatory, but has a few quirks:\n",
        "        #\n",
        "        # self.id is included mainly because it's described in the\n",
        "        # Pregel paper.  It is used briefly in the pagerank example,\n",
        "        # but not in any essential way, and I was tempted to omit it.\n",
        "        #\n",
        "        # Each vertex stores the current superstep number in\n",
        "        # self.superstep.  It's arguably not wise to store many copies\n",
        "        # of global state in instance variables, but Pregel's\n",
        "        # synchronous nature lets us get away with it.\n",
        "        self.id = id \n",
        "        self.value = value\n",
        "        self.out_vertices = out_vertices\n",
        "        self.incoming_messages = []\n",
        "        self.outgoing_messages = []\n",
        "        self.active = True\n",
        "        self.superstep = 0\n",
        "\n",
        "   \n",
        "class Pregel():\n",
        "\n",
        "    def __init__(self,vertices,num_workers):\n",
        "        self.vertices = vertices\n",
        "        self.num_workers = num_workers\n",
        "\n",
        "    def run(self):\n",
        "        \"\"\"Runs the Pregel instance.\"\"\"\n",
        "        self.partition = self.partition_vertices()\n",
        "        while self.check_active():\n",
        "            self.superstep()\n",
        "            self.redistribute_messages()\n",
        "\n",
        "    def partition_vertices(self):\n",
        "        \"\"\"Returns a dict with keys 0,...,self.num_workers-1\n",
        "        representing the worker threads.  The corresponding values are\n",
        "        lists of vertices assigned to that worker.\"\"\"\n",
        "        partition = collections.defaultdict(list)\n",
        "        for vertex in self.vertices:\n",
        "            partition[self.worker(vertex)].append(vertex)\n",
        "        return partition\n",
        "\n",
        "    def worker(self,vertex):\n",
        "        \"\"\"Returns the id of the worker that vertex is assigned to.\"\"\"\n",
        "        return hash(vertex) % self.num_workers\n",
        "\n",
        "    def superstep(self):\n",
        "        \"\"\"Completes a single superstep.  \n",
        "\n",
        "        Note that in this implementation, worker threads are spawned,\n",
        "        and then destroyed during each superstep.  This creation and\n",
        "        destruction causes some overhead, and it would be better to\n",
        "        make the workers persistent, and to use a locking mechanism to\n",
        "        synchronize.  The Pregel paper suggests that this is how\n",
        "        Google's Pregel implementation works.\"\"\"\n",
        "        workers = []\n",
        "        for vertex_list in self.partition.values():\n",
        "            worker = Worker(vertex_list)\n",
        "            workers.append(worker)\n",
        "            #print(f\" Worker started with vertices list : {[v.id for v in vertex_list]}\")\n",
        "            worker.start()\n",
        "        for worker in workers:\n",
        "            worker.join()\n",
        "\n",
        "    def redistribute_messages(self):\n",
        "        \"\"\"Updates the message lists for all vertices.\"\"\"\n",
        "        for vertex in self.vertices:\n",
        "            vertex.superstep +=1\n",
        "            vertex.incoming_messages = []\n",
        "        for vertex in self.vertices:\n",
        "            for (receiving_vertex,message) in vertex.outgoing_messages:\n",
        "                receiving_vertex.incoming_messages.append((vertex,message))\n",
        "            vertex.outgoing_messages = []\n",
        "\n",
        "    def check_active(self):\n",
        "        \"\"\"Returns True if there are any active vertices, and False\n",
        "        otherwise.\"\"\"\n",
        "        return any([vertex.active for vertex in self.vertices])\n",
        "\n",
        "class Worker(threading.Thread):\n",
        "\n",
        "    def __init__(self,vertices):\n",
        "        threading.Thread.__init__(self)\n",
        "        self.vertices = vertices\n",
        "\n",
        "    def run(self):\n",
        "        self.superstep()\n",
        "        #time.sleep(10)\n",
        "        #print(f\" Worker completed superstep with vertices list : {[v.id for v in self.vertices]}\")\n",
        "        \n",
        "\n",
        "    def superstep(self):\n",
        "        \"\"\"Completes a single superstep for all the vertices in\n",
        "        self.\"\"\"\n",
        "        for vertex in self.vertices:\n",
        "            if vertex.active:\n",
        "                vertex.update()\n"
      ]
    },
    {
      "cell_type": "markdown",
      "metadata": {
        "id": "CGCBCdiVQzCn"
      },
      "source": [
        "## Trust Rank Class"
      ]
    },
    {
      "cell_type": "code",
      "execution_count": 139,
      "metadata": {
        "id": "Z27AG1v4QzCo"
      },
      "outputs": [],
      "source": [
        "\"\"\" Vertex class for TrustRank algorithm\n",
        "    Can add instance varibles and methods according to algorithm\n",
        "\"\"\"\n",
        "class TrustRankVertex(Vertex):\n",
        "    def __init__(self,id,value,out_vertices,dampingFactor=0.85,iterations=50):\n",
        "        Vertex.__init__(self,id,value,out_vertices)\n",
        "        self.dampingFactor = dampingFactor\n",
        "        self.num_supersteps = iterations\n",
        "        # Sum of weights of all outgoing edges\n",
        "        self.sum_of_weights = 0.0\n",
        "\n",
        "    def update(self):\n",
        "        if self.superstep < self.num_supersteps:\n",
        "            messages_sum = 0.0\n",
        "            for (vertice ,message) in self.incoming_messages:\n",
        "                messages_sum += message\n",
        "            \n",
        "            \"\"\" Updating the score of the node based on whether the node is a bad node or not \"\"\"\n",
        "            if self.id in bad_nodes:\n",
        "                self.value = ((1-self.dampingFactor) / len(bad_nodes)) + (self.dampingFactor*messages_sum)\n",
        "            else:\n",
        "                self.value = self.dampingFactor*messages_sum\n",
        "\n",
        "            \"\"\"There will be not be any node with no outgoing edges as we assume that the score of these nodes is evenly distributed among bad nodes.\"\"\"\n",
        "            # Updating the outgoing bad score to be sent to the out vertices\n",
        "            for vertex, weight in self.out_vertices:\n",
        "                # Outgoing bad score calculated based on the weight of the edge connecting out vertices\n",
        "                outgoing_message = self.value * (weight / self.sum_of_weights)\n",
        "                self.outgoing_messages.append((vertex, outgoing_message))\n",
        "        else:\n",
        "            self.active = False"
      ]
    },
    {
      "cell_type": "markdown",
      "metadata": {
        "id": "6S-2C45ZQzCs"
      },
      "source": [
        "## Function to get outgoing vertices for each vertex"
      ]
    },
    {
      "cell_type": "code",
      "execution_count": 140,
      "metadata": {
        "id": "MXuE48ZgQzCt"
      },
      "outputs": [],
      "source": [
        "\"\"\" Updating out going vertices for each vertex using edges \"\"\"\n",
        "def updateOutGoingVertices(vertices, id_vertex_map):\n",
        "    for edge in edges:\n",
        "        frm,to = edge\n",
        "        weight = edges[edge]\n",
        "        frm_vertex = id_vertex_map.get(frm)\n",
        "        to_vertex = id_vertex_map.get(to)\n",
        "\n",
        "        frm_vertex.out_vertices.append((to_vertex, weight))\n",
        "        frm_vertex.sum_of_weights += weight\n",
        "\n",
        "    \"\"\"If there are vertices with no outgoing edges, then we evenly distribute the score of these nodes among bad nodes. Hence we set the out vertices of these nodes to be bad nodes.\"\"\"\"\"\n",
        "    for vertex in vertices:\n",
        "        if len(vertex.out_vertices) == 0:\n",
        "            for bad_node in bad_nodes:\n",
        "                bad_vertex = id_vertex_map.get(bad_node)\n",
        "                vertex.out_vertices.append((bad_vertex, 1.0))\n",
        "            vertex.sum_of_weights = len(bad_nodes)\n"
      ]
    },
    {
      "cell_type": "markdown",
      "metadata": {
        "id": "xdkAZKsvQzCw"
      },
      "source": [
        "## Function to run the trust rank algorithm using Pregel"
      ]
    },
    {
      "cell_type": "code",
      "execution_count": 141,
      "metadata": {
        "id": "aR-c4HqxQzCx"
      },
      "outputs": [],
      "source": [
        "# Pregel implementation for TrustRank\n",
        "def pregelTrustRank(vertices, num_workers):\n",
        "    p = Pregel(vertices,num_workers)\n",
        "    p.run()\n",
        "    return np.array([(vertex.id, vertex.value) for vertex in p.vertices])"
      ]
    },
    {
      "cell_type": "markdown",
      "metadata": {
        "id": "tzAruwX1QzCx"
      },
      "source": [
        "## Function to compute Initial Bad Score"
      ]
    },
    {
      "cell_type": "code",
      "execution_count": 142,
      "metadata": {
        "id": "XeHtT08HQzCy"
      },
      "outputs": [],
      "source": [
        "\"\"\"We give the bad nodes a score of 1/number of bad nodes and the rest of the nodes a score of 0\"\"\"\n",
        "def ComputeInitialBadScore():\n",
        "    vertices = []\n",
        "\n",
        "    # We create a map of id to vertex for easy access when we have id\n",
        "    \"\"\"This is to bring down the time complexity from O(n^2) to O(n)\"\"\"\n",
        "    id_vertex_map = {}\n",
        "\n",
        "    initial_bad_score = 1/len(bad_nodes)\n",
        "\n",
        "    for node in nodes:\n",
        "        if node in bad_nodes:\n",
        "            vertex = TrustRankVertex(node, initial_bad_score, [], iterations=100)\n",
        "        else:\n",
        "            vertex = TrustRankVertex(node, 0.0, [], iterations=100)\n",
        "        vertices.append(vertex)\n",
        "        id_vertex_map[node] = vertex\n",
        "\n",
        "    return vertices, id_vertex_map"
      ]
    },
    {
      "cell_type": "markdown",
      "metadata": {
        "id": "YnBEhS_sQzCz"
      },
      "source": [
        "## Run on the given data"
      ]
    },
    {
      "cell_type": "code",
      "execution_count": 143,
      "metadata": {
        "id": "_RTZfs1cQzC0"
      },
      "outputs": [],
      "source": [
        "num_workers = 4\n",
        "\n",
        "vertices, id_vertex_map = ComputeInitialBadScore()\n",
        "updateOutGoingVertices(vertices, id_vertex_map)"
      ]
    },
    {
      "cell_type": "code",
      "execution_count": 144,
      "metadata": {
        "id": "4CRATVOJQzC2"
      },
      "outputs": [],
      "source": [
        "bad_score_vector = pregelTrustRank(vertices, num_workers)\n",
        "\n",
        "# Sorting the bad score vector based on the id of the node\n",
        "idx = np.argsort(bad_score_vector[:, 0])\n",
        "sortidx_bad_score_vector = bad_score_vector[idx]"
      ]
    },
    {
      "cell_type": "code",
      "execution_count": 145,
      "metadata": {
        "colab": {
          "base_uri": "https://localhost:8080/"
        },
        "id": "X3xmRNoGcLQw",
        "outputId": "707c2207-8c38-44db-8087-1bdd50d28fe8"
      },
      "outputs": [],
      "source": [
        "# Writing the bad score vector to a csv file for easy access \n",
        "with open('bad_scores.csv', mode='w', newline='') as file:\n",
        "    writer = csv.writer(file)\n",
        "    writer.writerow(['Node ID', 'Bad Score'])\n",
        "    writer.writerows(sortidx_bad_score_vector)"
      ]
    },
    {
      "cell_type": "code",
      "execution_count": 146,
      "metadata": {},
      "outputs": [
        {
          "data": {
            "image/png": "[encoded data removed]",
            "text/plain": [
              "<Figure size 640x480 with 1 Axes>"
            ]
          },
          "metadata": {},
          "output_type": "display_data"
        }
      ],
      "source": [
        "# Histogram showing the distribution of bad scores\n",
        "plt.hist(sortidx_bad_score_vector[:,1])\n",
        "plt.xlabel('Bad Score')\n",
        "plt.ylabel('Frequency')\n",
        "plt.title('Histogram of Bad Scores')\n",
        "plt.show()"
      ]
    },
    {
      "cell_type": "code",
      "execution_count": 147,
      "metadata": {},
      "outputs": [
        {
          "name": "stdout",
          "output_type": "stream",
          "text": [
            "Top 20 bad nodes : \n",
            "Node ID, Bad Score\n",
            "1088 :  0.048187301344225095\n",
            "1144 :  0.046434468425409776\n",
            "1007 :  0.03765229959281566\n",
            "1210 :  0.024525230899676592\n",
            "1034 :  0.02319570756200716\n",
            "1039 :  0.02001732027224442\n",
            "1011 :  0.0194336881419667\n",
            "1042 :  0.01923032462707741\n",
            "1086 :  0.017891003340082947\n",
            "1076 :  0.017850033951805424\n",
            "1309 :  0.01685717387233079\n",
            "1094 :  0.015183681965865269\n",
            "1147 :  0.014666973467489451\n",
            "1173 :  0.014283015404572849\n",
            "1099 :  0.013732203701953029\n",
            "1201 :  0.013541780851813132\n",
            "1122 :  0.01322098284042478\n",
            "1079 :  0.012788815817270302\n",
            "1138 :  0.012649093696215304\n",
            "1041 :  0.012140561388011041\n"
          ]
        }
      ],
      "source": [
        "# sorting the bad score vector based on the bad score of the node\n",
        "idx = np.argsort(bad_score_vector[:, 1])\n",
        "sortRank_bad_score_vector = bad_score_vector[idx]\n",
        "\n",
        "print(\"Top 20 bad nodes : \")\n",
        "print(\"Node ID, Bad Score\")\n",
        "for vec in sortRank_bad_score_vector[-1:-21:-1]:\n",
        "    print(str(int(vec[0])) + ' :  ' + str(vec[1]))"
      ]
    },
    {
      "cell_type": "code",
      "execution_count": 153,
      "metadata": {},
      "outputs": [
        {
          "data": {
            "image/png": "[encoded data removed]",
            "text/plain": [
              "<Figure size 640x480 with 1 Axes>"
            ]
          },
          "metadata": {},
          "output_type": "display_data"
        }
      ],
      "source": [
        "# Plot to give idea on how the bad score is distributed among the nodes by taking top 20 nodes with highest bad score as bad nodes\n",
        "plt.plot(sortRank_bad_score_vector[:-20,0], sortRank_bad_score_vector[:-20,1], 'go', label='Good Nodes')\n",
        "plt.plot(sortRank_bad_score_vector[-20:,0], sortRank_bad_score_vector[-20:,1], 'ro', label='Bad Nodes')\n",
        "plt.xlabel('Node ID')\n",
        "plt.ylabel('Bad Score')\n",
        "plt.title('Bad Score vs Node ID')\n",
        "plt.legend()\n",
        "plt.show()"
      ]
    }
  ],
  "metadata": {
    "colab": {
      "provenance": []
    },
    "kernelspec": {
      "display_name": "Python 3",
      "language": "python",
      "name": "python3"
    },
    "language_info": {
      "codemirror_mode": {
        "name": "ipython",
        "version": 3
      },
      "file_extension": ".py",
      "mimetype": "text/x-python",
      "name": "python",
      "nbconvert_exporter": "python",
      "pygments_lexer": "ipython3",
      "version": "3.8.10"
    },
    "orig_nbformat": 4
  },
  "nbformat": 4,
  "nbformat_minor": 0
}
