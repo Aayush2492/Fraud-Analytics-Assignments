{
 "cells": [
  {
   "cell_type": "code",
   "execution_count": 1,
   "metadata": {},
   "outputs": [
    {
     "ename": "ModuleNotFoundError",
     "evalue": "No module named 'pyspark'",
     "output_type": "error",
     "traceback": [
      "\u001b[1;31m---------------------------------------------------------------------------\u001b[0m",
      "\u001b[1;31mModuleNotFoundError\u001b[0m                       Traceback (most recent call last)",
      "Cell \u001b[1;32mIn [1], line 1\u001b[0m\n\u001b[1;32m----> 1\u001b[0m \u001b[39mfrom\u001b[39;00m \u001b[39mpyspark\u001b[39;00m \u001b[39mimport\u001b[39;00m SparkContext, SparkConf\n\u001b[0;32m      2\u001b[0m \u001b[39mimport\u001b[39;00m \u001b[39mpandas\u001b[39;00m \u001b[39mas\u001b[39;00m \u001b[39mpd\u001b[39;00m\n\u001b[0;32m      4\u001b[0m \u001b[39m# Initialize Spark Context\u001b[39;00m\n",
      "\u001b[1;31mModuleNotFoundError\u001b[0m: No module named 'pyspark'"
     ]
    }
   ],
   "source": [
    "# from pyspark import SparkContext, SparkConf\n",
    "# import pandas as pd\n",
    "\n",
    "# # Initialize Spark Context\n",
    "# conf = SparkConf().setAppName(\"Trust Rank Computation\")\n",
    "# sc = SparkContext(conf=conf)\n",
    "\n",
    "# # Load data set into graph\n",
    "# invoice_data = pd.read_csv(\"iron_dealers_data.csv\")\n",
    "# edges = invoice_data[['Seller ID', 'Buyer ID', 'Value']].values.tolist()\n",
    "# graph = sc.parallelize(edges).map(lambda x: (x[0], x[1], float(x[2]))).groupByKey()\n",
    "\n",
    "# # Initialize trust rank of each node\n",
    "# default_trust_rank = 0.5\n",
    "# node_trust_rank = graph.map(lambda x: (x[0], default_trust_rank))\n",
    "\n",
    "# # Load bad nodes\n",
    "# bad_nodes = pd.read_csv(\"bad.csv\")\n",
    "# bad_nodes_list = bad_nodes['Bad Id'].tolist()\n",
    "\n",
    "# # Pregel Computation\n",
    "# num_supersteps = 10\n",
    "\n",
    "# def pregel_computation(vertex, messages):\n",
    "#     trust_rank_sum = default_trust_rank\n",
    "#     for message in messages:\n",
    "#         trust_rank_sum += message\n",
    "#     if vertex in bad_nodes_list:\n",
    "#         new_trust_rank = 0\n",
    "#     else:\n",
    "#         new_trust_rank = 0.15 + 0.85 * trust_rank_sum\n",
    "#     out_messages = []\n",
    "#     for neighbor in vertex_neighbors[vertex]:\n",
    "#         out_messages.append((neighbor, new_trust_rank / len(vertex_neighbors[vertex])))\n",
    "#     return (new_trust_rank, out_messages)\n",
    "\n",
    "# vertex_neighbors = graph.collectAsMap()\n",
    "\n",
    "# for i in range(num_supersteps):\n",
    "#     node_trust_rank = node_trust_rank.join(graph).flatMap(lambda x: pregel_computation(x[0], x[1][1])).reduceByKey(lambda x,y: x+y).mapValues(lambda x: 0.15 + 0.85 * x)\n",
    "\n",
    "# # Output final trust rank\n",
    "# node_trust_rank.saveAsTextFile(\"rank.txt\")\n"
   ]
  },
  {
   "cell_type": "code",
   "execution_count": 2,
   "metadata": {},
   "outputs": [],
   "source": [
    "import networkx as nx\n",
    "import csv\n",
    "\n",
    "# Load data set into graph\n",
    "graph = nx.DiGraph()\n",
    "with open(\"iron_dealers_data.csv\") as f:\n",
    "    reader = csv.reader(f)\n",
    "    next(reader) # skip header\n",
    "    for row in reader:\n",
    "        seller_id, buyer_id, value = row\n",
    "        graph.add_edge(seller_id, buyer_id, weight=float(value))\n",
    "\n",
    "# Initialize trust rank of each node\n",
    "default_trust_rank = 0.5\n",
    "node_trust_rank = {node: default_trust_rank for node in graph.nodes()}\n",
    "\n",
    "# Load bad nodes\n",
    "bad_nodes = set()\n",
    "with open(\"bad.csv\") as f:\n",
    "    reader = csv.reader(f)\n",
    "    next(reader) # skip header\n",
    "    for row in reader:\n",
    "        bad_nodes.add(row[0])\n",
    "\n",
    "# Trust Rank Computation\n",
    "num_iterations = 10\n",
    "\n",
    "for i in range(num_iterations):\n",
    "    new_node_trust_rank = {}\n",
    "    for node in graph.nodes():\n",
    "        trust_rank_sum = default_trust_rank\n",
    "        for neighbor in graph.predecessors(node):\n",
    "            neighbor_trust_rank = node_trust_rank[neighbor]\n",
    "            neighbor_out_degree = graph.out_degree(neighbor, weight='weight')\n",
    "            trust_rank_sum += neighbor_trust_rank * graph[neighbor][node]['weight'] / neighbor_out_degree\n",
    "        if node in bad_nodes:\n",
    "            new_trust_rank = 0\n",
    "        else:\n",
    "            new_trust_rank = 0.15 + 0.85 * trust_rank_sum\n",
    "        new_node_trust_rank[node] = new_trust_rank\n",
    "    node_trust_rank = new_node_trust_rank\n",
    "\n",
    "# Output final trust rank\n",
    "with open(\"rank.csv\", \"w\") as f:\n",
    "    writer = csv.writer(f)\n",
    "    writer.writerow(['node_id', 'trust_rank'])\n",
    "    for node, trust_rank in node_trust_rank.items():\n",
    "        writer.writerow([node, trust_rank])\n"
   ]
  }
 ],
 "metadata": {
  "kernelspec": {
   "display_name": "Python 3",
   "language": "python",
   "name": "python3"
  },
  "language_info": {
   "codemirror_mode": {
    "name": "ipython",
    "version": 3
   },
   "file_extension": ".py",
   "mimetype": "text/x-python",
   "name": "python",
   "nbconvert_exporter": "python",
   "pygments_lexer": "ipython3",
   "version": "3.9.12"
  },
  "orig_nbformat": 4,
  "vscode": {
   "interpreter": {
    "hash": "9f3e08e97ec3800875dc771278e5e1cac5dd41c8b0a0d355a2afd45c26016379"
   }
  }
 },
 "nbformat": 4,
 "nbformat_minor": 2
}
